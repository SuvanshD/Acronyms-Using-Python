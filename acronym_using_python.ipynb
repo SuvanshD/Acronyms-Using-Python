{
 "cells": [
  {
   "cell_type": "markdown",
   "id": "6ca2f6fe-7020-4d16-958f-fe2985220f21",
   "metadata": {},
   "source": [
    "## Take user input"
   ]
  },
  {
   "cell_type": "code",
   "execution_count": 27,
   "id": "a636b3b4-437a-4bfc-bd90-47ed4c179eb9",
   "metadata": {},
   "outputs": [
    {
     "name": "stdin",
     "output_type": "stream",
     "text": [
      "Enter the phrase: Manvi dureja bhatia\n"
     ]
    }
   ],
   "source": [
    "user_input = str(input(\"Enter the phrase:\"))"
   ]
  },
  {
   "cell_type": "markdown",
   "id": "9783f3a8-4299-484b-911d-91626830e217",
   "metadata": {},
   "source": [
    "## Split the sentence and store it in 'text' variable \n",
    "## And create a variable 'a' to store final acronym \n"
   ]
  },
  {
   "cell_type": "code",
   "execution_count": 41,
   "id": "eed59f18-e98e-44cd-9be9-6fba437deb98",
   "metadata": {},
   "outputs": [],
   "source": [
    "text = user_input.split()\n",
    "a= \" \""
   ]
  },
  {
   "cell_type": "markdown",
   "id": "ac3d9dbf-442e-4c8f-9716-8d3cd2198587",
   "metadata": {},
   "source": [
    "## Now joining the initials in the string using for loop ;  and for making them capital use Upper function"
   ]
  },
  {
   "cell_type": "code",
   "execution_count": 31,
   "id": "0d9fcc47-9a03-4f95-a3e2-78310807cf6e",
   "metadata": {},
   "outputs": [],
   "source": [
    "for i in text:\n",
    "    a += str(i[0]).upper() + \".\""
   ]
  },
  {
   "cell_type": "markdown",
   "id": "d7b09689-13fa-49ee-b02e-d3eb91b955e9",
   "metadata": {},
   "source": [
    "## Now print the final acronym"
   ]
  },
  {
   "cell_type": "code",
   "execution_count": 33,
   "id": "e6237208-23b3-44d6-b8e7-903b3de1bd20",
   "metadata": {},
   "outputs": [
    {
     "name": "stdout",
     "output_type": "stream",
     "text": [
      " M.D.B.\n"
     ]
    }
   ],
   "source": [
    "print (a)"
   ]
  }
 ],
 "metadata": {
  "kernelspec": {
   "display_name": "Python 3 (ipykernel)",
   "language": "python",
   "name": "python3"
  },
  "language_info": {
   "codemirror_mode": {
    "name": "ipython",
    "version": 3
   },
   "file_extension": ".py",
   "mimetype": "text/x-python",
   "name": "python",
   "nbconvert_exporter": "python",
   "pygments_lexer": "ipython3",
   "version": "3.12.4"
  }
 },
 "nbformat": 4,
 "nbformat_minor": 5
}
